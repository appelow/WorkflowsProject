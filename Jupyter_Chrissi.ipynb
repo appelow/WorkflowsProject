{
 "cells": [
  {
   "cell_type": "code",
   "execution_count": null,
   "id": "3f9fee31",
   "metadata": {},
   "outputs": [
    {
     "name": "stdout",
     "output_type": "stream",
     "text": [
      "\u001b[33mNextflow 25.04.8 is available - Please consider updating your version to it\u001b[m\n",
      "\n",
      "\u001b[1m\u001b[38;5;232m\u001b[48;5;43m N E X T F L O W \u001b[0;2m  ~  \u001b[mversion 25.04.7\u001b[m\n",
      "\u001b[K\n",
      "Launching\u001b[35m `./main.nf` \u001b[0;2m[\u001b[0;1;36minsane_murdock\u001b[0;2m] DSL2 - \u001b[36mrevision: \u001b[0;36m8d75f29691\u001b[m\n",
      "\u001b[K\n",
      "\n",
      "------------------------------------------------------\n",
      "                                        ,--./,-.\n",
      "        ___     __   __   __   ___     /,-._.--~'\n",
      "  |\\ | |__  __ /  ` /  \\ |__) |__         }  {\n",
      "  | \\| |       \\__, \\__/ |  \\ |___     \\`-._,-`-,\n",
      "                                        `._,._,'\n",
      "  nf-core/leoniechrissi 1.0.0dev\n",
      "------------------------------------------------------\n",
      "\u001b[1mInput/output options\u001b[0m\n",
      "  \u001b[0;34minput              : \u001b[0;32m./assets/samplesheet.csv\u001b[0m\n",
      "  \u001b[0;34moutdir             : \u001b[0;32mresults/\u001b[0m\n",
      "\n",
      "\u001b[1mGeneric options\u001b[0m\n",
      "  \u001b[0;34mtrace_report_suffix: \u001b[0;32m2025-10-08_13-49-28\u001b[0m\n",
      "\n",
      "\u001b[1mCore Nextflow options\u001b[0m\n",
      "  \u001b[0;34mrunName            : \u001b[0;32minsane_murdock\u001b[0m\n",
      "  \u001b[0;34mcontainerEngine    : \u001b[0;32mdocker\u001b[0m\n",
      "  \u001b[0;34mlaunchDir          : \u001b[0;32m/home/chrissi/NahnsenPrak/nf-core-leoniechrissi\u001b[0m\n",
      "  \u001b[0;34mworkDir            : \u001b[0;32m/home/chrissi/NahnsenPrak/nf-core-leoniechrissi/work\u001b[0m\n",
      "  \u001b[0;34mprojectDir         : \u001b[0;32m/home/chrissi/NahnsenPrak/nf-core-leoniechrissi\u001b[0m\n",
      "  \u001b[0;34muserName           : \u001b[0;32mchrissi\u001b[0m\n",
      "  \u001b[0;34mprofile            : \u001b[0;32mgitpod,docker\u001b[0m\n",
      "  \u001b[0;34mconfigFiles        : \u001b[0;32m/home/chrissi/NahnsenPrak/nf-core-leoniechrissi/nextflow.config\u001b[0m\n",
      "\n",
      "!! Only displaying parameters that differ from the pipeline defaults !!\n",
      "-\u001b[2m----------------------------------------------------\u001b[0m-\n",
      "* The nf-core framework\n",
      "    https://doi.org/10.1038/s41587-020-0439-x\n",
      "\n",
      "* Software dependencies\n",
      "    https://github.com/nf-core/leoniechrissi/blob/master/CITATIONS.md\n",
      "\n"
     ]
    }
   ],
   "source": [
    "# Beispielaufruf der nf-core leoniechrissi pipeline mit unserem  adjusted samplesheet\n",
    "!nextflow run ./main.nf \\\n",
    "    --input ./assets/samplesheet.csv \\\n",
    "    --outdir results/ \\\n",
    "    -profile gitpod,docker \\\n",
    "    -process.memory '4 GB' \\\n",
    "    -dump-channels \\\n",
    "    -process.cpus 2 -resume"
   ]
  }
 ],
 "metadata": {
  "kernelspec": {
   "display_name": "workflows",
   "language": "python",
   "name": "python3"
  },
  "language_info": {
   "codemirror_mode": {
    "name": "ipython",
    "version": 3
   },
   "file_extension": ".py",
   "mimetype": "text/x-python",
   "name": "python",
   "nbconvert_exporter": "python",
   "pygments_lexer": "ipython3",
   "version": "3.13.7"
  }
 },
 "nbformat": 4,
 "nbformat_minor": 5
}
