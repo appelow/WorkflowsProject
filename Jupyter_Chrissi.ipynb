{
 "cells": [
  {
   "cell_type": "code",
   "execution_count": 6,
   "id": "3f9fee31",
   "metadata": {},
   "outputs": [
    {
     "name": "stdout",
     "output_type": "stream",
     "text": [
      "\u001b[33mNextflow 25.04.8 is available - Please consider updating your version to it\u001b[m\n",
      "\n",
      "\u001b[1m\u001b[38;5;232m\u001b[48;5;43m N E X T F L O W \u001b[0;2m  ~  \u001b[mversion 25.04.7\u001b[m\n",
      "\u001b[K\n",
      "Pulling nextflow-io/nf-core-leoniechrissi ...\n",
      "WARN: Cannot read project manifest -- Cause: Remote resource not found: https://api.github.com/repos/nextflow-io/nf-core-leoniechrissi/contents/nextflow.config\n",
      "Remote resource not found: https://api.github.com/repos/nextflow-io/nf-core-leoniechrissi/contents/main.nf\n"
     ]
    }
   ],
   "source": [
    "# Beispielaufruf der nf-core leoniechrissi pipeline mit unserem  adjusted samplesheet\n",
    "!nextflow run nf-core-leoniechrissi \\\n",
    "    --outdir results/ \\\n",
    "    -profile test,docker "
   ]
  },
  {
   "cell_type": "code",
   "execution_count": null,
   "id": "c5fdc4ff",
   "metadata": {},
   "outputs": [
    {
     "name": "stdout",
     "output_type": "stream",
     "text": [
      "['/home/chrissi/NahnsenPrak/nf-core-leoniechrissi/results/subread/SAMPLE_SINGLE_END.featureCounts.tsv', '/home/chrissi/NahnsenPrak/nf-core-leoniechrissi/results/subread/SAMPLE_SINGLE_END_1.featureCounts.tsv', '/home/chrissi/NahnsenPrak/nf-core-leoniechrissi/results/subread/SAMPLE_SINGLE_END_2.featureCounts.tsv']\n",
      "✅ Merge abgeschlossen: merged_counts.tsv erstellt.\n"
     ]
    }
   ],
   "source": [
    "import pandas as pd\n",
    "import glob\n",
    "import os\n",
    "\n",
    "# Ordner, in dem deine featureCounts-TSV-Dateien liegen\n",
    "input_folder = \"/home/chrissi/NahnsenPrak/nf-core-leoniechrissi/results/subread\"\n",
    "\n",
    "# Alle TSV-Dateien im Ordner finden\n",
    "files = glob.glob(os.path.join(input_folder, \"*.tsv\"))\n",
    "print(files)\n",
    "\n",
    "# Liste für DataFrames\n",
    "dfs = []\n",
    "\n",
    "for f in files:\n",
    "    # Sample-Name aus dem Dateinamen ableiten\n",
    "    sample = os.path.basename(f).replace(\".featureCounts.tsv\", \"\")\n",
    "    \n",
    "    # TSV einlesen, Kommentarzeilen überspringen\n",
    "    df = pd.read_csv(f, sep=\"\\t\", comment=\"#\")\n",
    "    \n",
    "    # Nur Geneid und letzte Spalte behalten\n",
    "    last_col = df.columns[-1]\n",
    "    df = df[[\"Geneid\", last_col]]\n",
    "    \n",
    "    # Spaltennamen anpassen\n",
    "    df.columns = [\"Geneid\", sample]\n",
    "    \n",
    "    dfs.append(df)\n",
    "\n",
    "# Alle DataFrames nach Geneid zusammenführen\n",
    "merged = dfs[0]\n",
    "for df in dfs[1:]:\n",
    "    merged = pd.merge(merged, df, on=\"Geneid\", how=\"outer\")\n",
    "\n",
    "# Fehlende Werte mit 0 auffüllen und Sortieren\n",
    "merged = merged.fillna(0)\n",
    "merged = merged.sort_values(\"Geneid\")\n",
    "\n",
    "print(merged)\n",
    "\n",
    "# Output schreiben\n",
    "# merged.to_csv(\"merged_counts.tsv\", sep=\"\\t\", index=False)\n",
    "\n",
    "print(\"✅ Merge abgeschlossen: merged_counts.tsv erstellt.\")\n"
   ]
  }
 ],
 "metadata": {
  "kernelspec": {
   "display_name": "workflows",
   "language": "python",
   "name": "python3"
  },
  "language_info": {
   "codemirror_mode": {
    "name": "ipython",
    "version": 3
   },
   "file_extension": ".py",
   "mimetype": "text/x-python",
   "name": "python",
   "nbconvert_exporter": "python",
   "pygments_lexer": "ipython3",
   "version": "3.13.7"
  }
 },
 "nbformat": 4,
 "nbformat_minor": 5
}
